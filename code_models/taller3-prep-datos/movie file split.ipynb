{
 "cells": [
  {
   "cell_type": "code",
   "execution_count": 1,
   "metadata": {},
   "outputs": [
    {
     "name": "stdout",
     "output_type": "stream",
     "text": [
      "/Users/hermespuentes/dev/MINE/recomendacion/taller3-datos/ml-latest\n"
     ]
    }
   ],
   "source": [
    "%cd /Users/hermespuentes/dev/MINE/recomendacion/taller3-datos/ml-latest"
   ]
  },
  {
   "cell_type": "code",
   "execution_count": 2,
   "metadata": {},
   "outputs": [],
   "source": [
    "import pandas as pd"
   ]
  },
  {
   "cell_type": "code",
   "execution_count": 3,
   "metadata": {},
   "outputs": [],
   "source": [
    "df_links = pd.read_csv(\"links.csv\")"
   ]
  },
  {
   "cell_type": "code",
   "execution_count": 4,
   "metadata": {},
   "outputs": [
    {
     "data": {
      "text/html": [
       "<div>\n",
       "<style scoped>\n",
       "    .dataframe tbody tr th:only-of-type {\n",
       "        vertical-align: middle;\n",
       "    }\n",
       "\n",
       "    .dataframe tbody tr th {\n",
       "        vertical-align: top;\n",
       "    }\n",
       "\n",
       "    .dataframe thead th {\n",
       "        text-align: right;\n",
       "    }\n",
       "</style>\n",
       "<table border=\"1\" class=\"dataframe\">\n",
       "  <thead>\n",
       "    <tr style=\"text-align: right;\">\n",
       "      <th></th>\n",
       "      <th>movieId</th>\n",
       "      <th>imdbId</th>\n",
       "      <th>tmdbId</th>\n",
       "    </tr>\n",
       "  </thead>\n",
       "  <tbody>\n",
       "    <tr>\n",
       "      <th>0</th>\n",
       "      <td>1</td>\n",
       "      <td>114709</td>\n",
       "      <td>862.0</td>\n",
       "    </tr>\n",
       "    <tr>\n",
       "      <th>1</th>\n",
       "      <td>2</td>\n",
       "      <td>113497</td>\n",
       "      <td>8844.0</td>\n",
       "    </tr>\n",
       "    <tr>\n",
       "      <th>2</th>\n",
       "      <td>3</td>\n",
       "      <td>113228</td>\n",
       "      <td>15602.0</td>\n",
       "    </tr>\n",
       "    <tr>\n",
       "      <th>3</th>\n",
       "      <td>4</td>\n",
       "      <td>114885</td>\n",
       "      <td>31357.0</td>\n",
       "    </tr>\n",
       "    <tr>\n",
       "      <th>4</th>\n",
       "      <td>5</td>\n",
       "      <td>113041</td>\n",
       "      <td>11862.0</td>\n",
       "    </tr>\n",
       "    <tr>\n",
       "      <th>5</th>\n",
       "      <td>6</td>\n",
       "      <td>113277</td>\n",
       "      <td>949.0</td>\n",
       "    </tr>\n",
       "    <tr>\n",
       "      <th>6</th>\n",
       "      <td>7</td>\n",
       "      <td>114319</td>\n",
       "      <td>11860.0</td>\n",
       "    </tr>\n",
       "    <tr>\n",
       "      <th>7</th>\n",
       "      <td>8</td>\n",
       "      <td>112302</td>\n",
       "      <td>45325.0</td>\n",
       "    </tr>\n",
       "    <tr>\n",
       "      <th>8</th>\n",
       "      <td>9</td>\n",
       "      <td>114576</td>\n",
       "      <td>9091.0</td>\n",
       "    </tr>\n",
       "    <tr>\n",
       "      <th>9</th>\n",
       "      <td>10</td>\n",
       "      <td>113189</td>\n",
       "      <td>710.0</td>\n",
       "    </tr>\n",
       "  </tbody>\n",
       "</table>\n",
       "</div>"
      ],
      "text/plain": [
       "   movieId  imdbId   tmdbId\n",
       "0        1  114709    862.0\n",
       "1        2  113497   8844.0\n",
       "2        3  113228  15602.0\n",
       "3        4  114885  31357.0\n",
       "4        5  113041  11862.0\n",
       "5        6  113277    949.0\n",
       "6        7  114319  11860.0\n",
       "7        8  112302  45325.0\n",
       "8        9  114576   9091.0\n",
       "9       10  113189    710.0"
      ]
     },
     "execution_count": 4,
     "metadata": {},
     "output_type": "execute_result"
    }
   ],
   "source": [
    "df_links.head(10)"
   ]
  },
  {
   "cell_type": "code",
   "execution_count": 5,
   "metadata": {},
   "outputs": [
    {
     "data": {
      "text/plain": [
       "58098"
      ]
     },
     "execution_count": 5,
     "metadata": {},
     "output_type": "execute_result"
    }
   ],
   "source": [
    "len(df_links)"
   ]
  },
  {
   "cell_type": "code",
   "execution_count": 6,
   "metadata": {},
   "outputs": [],
   "source": [
    "df_links1 = df_links.iloc[ 0:10000 , : ]"
   ]
  },
  {
   "cell_type": "code",
   "execution_count": 7,
   "metadata": {},
   "outputs": [],
   "source": [
    "df_links2 = df_links.iloc[ 10000:20000 , : ]"
   ]
  },
  {
   "cell_type": "code",
   "execution_count": 8,
   "metadata": {},
   "outputs": [],
   "source": [
    "df_links3 = df_links.iloc[ 20000:30000 , : ]"
   ]
  },
  {
   "cell_type": "code",
   "execution_count": 9,
   "metadata": {},
   "outputs": [],
   "source": [
    "df_links4 = df_links.iloc[ 30000:40000 , : ]"
   ]
  },
  {
   "cell_type": "code",
   "execution_count": 10,
   "metadata": {},
   "outputs": [],
   "source": [
    "df_links5 = df_links.iloc[ 40000:50000 , : ]"
   ]
  },
  {
   "cell_type": "code",
   "execution_count": 11,
   "metadata": {},
   "outputs": [],
   "source": [
    "df_links6 = df_links.iloc[ 50000:60000 , : ]"
   ]
  },
  {
   "cell_type": "code",
   "execution_count": 12,
   "metadata": {},
   "outputs": [],
   "source": [
    "df_links1.to_csv(\"links1.csv\",index=False,header = True, sep = \",\")\n",
    "df_links2.to_csv(\"links2.csv\",index=False,header = True, sep = \",\")\n",
    "df_links3.to_csv(\"links3.csv\",index=False,header = True, sep = \",\")\n",
    "df_links4.to_csv(\"links4.csv\",index=False,header = True, sep = \",\")\n",
    "df_links5.to_csv(\"links5.csv\",index=False,header = True, sep = \",\")\n",
    "df_links6.to_csv(\"links6.csv\",index=False,header = True, sep = \",\")"
   ]
  },
  {
   "cell_type": "code",
   "execution_count": 13,
   "metadata": {},
   "outputs": [],
   "source": [
    "names=['imdbId','directores','actores']\n",
    "df_diract1 = pd.read_csv(\"semantic/directores1.csv\", names=names)\n",
    "df_diract2 = pd.read_csv(\"semantic/directores2.csv\", names=names)\n",
    "df_diract3 = pd.read_csv(\"semantic/directores3.csv\", names=names)\n",
    "df_diract4 = pd.read_csv(\"semantic/directores4.csv\", names=names)\n",
    "df_diract5 = pd.read_csv(\"semantic/directores5.csv\", names=names)\n",
    "df_diract6 = pd.read_csv(\"semantic/directores6.csv\", names=names)"
   ]
  },
  {
   "cell_type": "code",
   "execution_count": 14,
   "metadata": {},
   "outputs": [],
   "source": [
    "df_diract = df_diract1\n",
    "df_diract = df_diract.append(df_diract2)\n",
    "df_diract = df_diract.append(df_diract3)\n",
    "df_diract = df_diract.append(df_diract4)\n",
    "df_diract = df_diract.append(df_diract5)\n",
    "df_diract = df_diract.append(df_diract6)\n",
    "df_diract.reset_index(inplace=True)\n",
    "df_diract.drop('index', axis = 1, inplace=True)"
   ]
  },
  {
   "cell_type": "code",
   "execution_count": 15,
   "metadata": {},
   "outputs": [
    {
     "data": {
      "text/plain": [
       "58098"
      ]
     },
     "execution_count": 15,
     "metadata": {},
     "output_type": "execute_result"
    }
   ],
   "source": [
    "len(df_diract)"
   ]
  },
  {
   "cell_type": "code",
   "execution_count": 16,
   "metadata": {},
   "outputs": [],
   "source": [
    "df_all= pd.merge(df_diract,df_links,how=\"inner\",left_on=\"imdbId\", right_on=\"imdbId\")"
   ]
  },
  {
   "cell_type": "code",
   "execution_count": 17,
   "metadata": {},
   "outputs": [
    {
     "data": {
      "text/plain": [
       "58098"
      ]
     },
     "execution_count": 17,
     "metadata": {},
     "output_type": "execute_result"
    }
   ],
   "source": [
    "len(df_all)"
   ]
  },
  {
   "cell_type": "code",
   "execution_count": 19,
   "metadata": {},
   "outputs": [],
   "source": [
    "df_all = df_all[[\"movieId\",\"directores\",\"actores\"]]"
   ]
  },
  {
   "cell_type": "code",
   "execution_count": 20,
   "metadata": {},
   "outputs": [
    {
     "data": {
      "text/html": [
       "<div>\n",
       "<style scoped>\n",
       "    .dataframe tbody tr th:only-of-type {\n",
       "        vertical-align: middle;\n",
       "    }\n",
       "\n",
       "    .dataframe tbody tr th {\n",
       "        vertical-align: top;\n",
       "    }\n",
       "\n",
       "    .dataframe thead th {\n",
       "        text-align: right;\n",
       "    }\n",
       "</style>\n",
       "<table border=\"1\" class=\"dataframe\">\n",
       "  <thead>\n",
       "    <tr style=\"text-align: right;\">\n",
       "      <th></th>\n",
       "      <th>movieId</th>\n",
       "      <th>directores</th>\n",
       "      <th>actores</th>\n",
       "    </tr>\n",
       "  </thead>\n",
       "  <tbody>\n",
       "    <tr>\n",
       "      <th>0</th>\n",
       "      <td>3354</td>\n",
       "      <td>Brian De Palma</td>\n",
       "      <td>Tim Robbins|Gary Sinise|Don Cheadle|Connie Nie...</td>\n",
       "    </tr>\n",
       "    <tr>\n",
       "      <th>1</th>\n",
       "      <td>3316</td>\n",
       "      <td>John Frankenheimer</td>\n",
       "      <td>Ben Affleck|Gary Sinise|Charlize Theron|James ...</td>\n",
       "    </tr>\n",
       "    <tr>\n",
       "      <th>2</th>\n",
       "      <td>26231</td>\n",
       "      <td>Donald Cammell|Nicolas Roeg</td>\n",
       "      <td>James Fox|Mick Jagger|Anita Pallenberg|Michèle...</td>\n",
       "    </tr>\n",
       "    <tr>\n",
       "      <th>3</th>\n",
       "      <td>4833</td>\n",
       "      <td>Peter Medak</td>\n",
       "      <td>George C. Scott|Trish Van Devere|Melvyn Dougla...</td>\n",
       "    </tr>\n",
       "    <tr>\n",
       "      <th>4</th>\n",
       "      <td>8496</td>\n",
       "      <td>Jerry Schatzberg</td>\n",
       "      <td>Al Pacino|Kitty Winn|Alan Vint|Richard Bright</td>\n",
       "    </tr>\n",
       "    <tr>\n",
       "      <th>...</th>\n",
       "      <td>...</td>\n",
       "      <td>...</td>\n",
       "      <td>...</td>\n",
       "    </tr>\n",
       "    <tr>\n",
       "      <th>58093</th>\n",
       "      <td>193363</td>\n",
       "      <td>Mats Helge Olsson</td>\n",
       "      <td>Krzysztof Kolberger|Hanna Bieniuszewicz|Bo F. ...</td>\n",
       "    </tr>\n",
       "    <tr>\n",
       "      <th>58094</th>\n",
       "      <td>193467</td>\n",
       "      <td>Tetsu Maeda</td>\n",
       "      <td>Takao Osawa|Kyôka Suzuki|Shôta Matsuda|Kôichi ...</td>\n",
       "    </tr>\n",
       "    <tr>\n",
       "      <th>58095</th>\n",
       "      <td>176935</td>\n",
       "      <td>Dean Devlin</td>\n",
       "      <td>Gerard Butler|Jim Sturgess|Abbie Cornish|Alexa...</td>\n",
       "    </tr>\n",
       "    <tr>\n",
       "      <th>58096</th>\n",
       "      <td>189757</td>\n",
       "      <td>Fabien Onteniente</td>\n",
       "      <td>Franck Dubosc|Mathilde Seigner|Claude Brasseur...</td>\n",
       "    </tr>\n",
       "    <tr>\n",
       "      <th>58097</th>\n",
       "      <td>187517</td>\n",
       "      <td>Neal Brennan</td>\n",
       "      <td>Michelle Wolf</td>\n",
       "    </tr>\n",
       "  </tbody>\n",
       "</table>\n",
       "<p>58098 rows × 3 columns</p>\n",
       "</div>"
      ],
      "text/plain": [
       "       movieId                   directores  \\\n",
       "0         3354               Brian De Palma   \n",
       "1         3316           John Frankenheimer   \n",
       "2        26231  Donald Cammell|Nicolas Roeg   \n",
       "3         4833                  Peter Medak   \n",
       "4         8496             Jerry Schatzberg   \n",
       "...        ...                          ...   \n",
       "58093   193363            Mats Helge Olsson   \n",
       "58094   193467                  Tetsu Maeda   \n",
       "58095   176935                  Dean Devlin   \n",
       "58096   189757            Fabien Onteniente   \n",
       "58097   187517                 Neal Brennan   \n",
       "\n",
       "                                                 actores  \n",
       "0      Tim Robbins|Gary Sinise|Don Cheadle|Connie Nie...  \n",
       "1      Ben Affleck|Gary Sinise|Charlize Theron|James ...  \n",
       "2      James Fox|Mick Jagger|Anita Pallenberg|Michèle...  \n",
       "3      George C. Scott|Trish Van Devere|Melvyn Dougla...  \n",
       "4          Al Pacino|Kitty Winn|Alan Vint|Richard Bright  \n",
       "...                                                  ...  \n",
       "58093  Krzysztof Kolberger|Hanna Bieniuszewicz|Bo F. ...  \n",
       "58094  Takao Osawa|Kyôka Suzuki|Shôta Matsuda|Kôichi ...  \n",
       "58095  Gerard Butler|Jim Sturgess|Abbie Cornish|Alexa...  \n",
       "58096  Franck Dubosc|Mathilde Seigner|Claude Brasseur...  \n",
       "58097                                      Michelle Wolf  \n",
       "\n",
       "[58098 rows x 3 columns]"
      ]
     },
     "execution_count": 20,
     "metadata": {},
     "output_type": "execute_result"
    }
   ],
   "source": [
    "df_all"
   ]
  },
  {
   "cell_type": "code",
   "execution_count": 21,
   "metadata": {},
   "outputs": [],
   "source": [
    "df_all.to_csv(\"diract.csv\",index=False,header = True, sep = \",\")"
   ]
  },
  {
   "cell_type": "code",
   "execution_count": null,
   "metadata": {},
   "outputs": [],
   "source": []
  }
 ],
 "metadata": {
  "kernelspec": {
   "display_name": "Python 3",
   "language": "python",
   "name": "python3"
  },
  "language_info": {
   "codemirror_mode": {
    "name": "ipython",
    "version": 3
   },
   "file_extension": ".py",
   "mimetype": "text/x-python",
   "name": "python",
   "nbconvert_exporter": "python",
   "pygments_lexer": "ipython3",
   "version": "3.7.1"
  }
 },
 "nbformat": 4,
 "nbformat_minor": 2
}
